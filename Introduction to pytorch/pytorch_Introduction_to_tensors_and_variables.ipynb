{
  "nbformat": 4,
  "nbformat_minor": 0,
  "metadata": {
    "colab": {
      "name": "pytorch: Introduction to tensors and variables.ipynb",
      "version": "0.3.2",
      "provenance": [],
      "include_colab_link": true
    },
    "kernelspec": {
      "name": "python3",
      "display_name": "Python 3"
    },
    "accelerator": "GPU"
  },
  "cells": [
    {
      "cell_type": "markdown",
      "metadata": {
        "id": "view-in-github",
        "colab_type": "text"
      },
      "source": [
        "<a href=\"https://colab.research.google.com/github/krish-bellamkonda/pytorchlearning/blob/master/pytorch_Introduction_to_tensors_and_variables.ipynb\" target=\"_parent\"><img src=\"https://colab.research.google.com/assets/colab-badge.svg\" alt=\"Open In Colab\"/></a>"
      ]
    },
    {
      "metadata": {
        "id": "t-iyLDoLphSW",
        "colab_type": "code",
        "outputId": "8a31d743-8b00-40a5-a219-88580fbb36d7",
        "colab": {
          "base_uri": "https://localhost:8080/",
          "height": 195
        }
      },
      "cell_type": "code",
      "source": [
        "!pip3 install http://download.pytorch.org/whl/cu80/torch-0.3.0.post4-cp36-cp36m-linux_x86_64.whl \n",
        "!pip3 install torchvision"
      ],
      "execution_count": 0,
      "outputs": [
        {
          "output_type": "stream",
          "text": [
            "Requirement already satisfied: torch==0.3.0.post4 from http://download.pytorch.org/whl/cu80/torch-0.3.0.post4-cp36-cp36m-linux_x86_64.whl in /usr/local/lib/python3.6/dist-packages (0.3.0.post4)\n",
            "Requirement already satisfied: numpy in /usr/local/lib/python3.6/dist-packages (from torch==0.3.0.post4) (1.14.6)\n",
            "Requirement already satisfied: pyyaml in /usr/local/lib/python3.6/dist-packages (from torch==0.3.0.post4) (3.13)\n",
            "Requirement already satisfied: torchvision in /usr/local/lib/python3.6/dist-packages (0.2.1)\n",
            "Requirement already satisfied: numpy in /usr/local/lib/python3.6/dist-packages (from torchvision) (1.14.6)\n",
            "Requirement already satisfied: pillow>=4.1.1 in /usr/local/lib/python3.6/dist-packages (from torchvision) (5.3.0)\n",
            "Requirement already satisfied: torch in /usr/local/lib/python3.6/dist-packages (from torchvision) (0.3.0.post4)\n",
            "Requirement already satisfied: six in /usr/local/lib/python3.6/dist-packages (from torchvision) (1.11.0)\n",
            "Requirement already satisfied: pyyaml in /usr/local/lib/python3.6/dist-packages (from torch->torchvision) (3.13)\n"
          ],
          "name": "stdout"
        }
      ]
    },
    {
      "metadata": {
        "id": "UuPsY-r6p4EN",
        "colab_type": "code",
        "colab": {}
      },
      "cell_type": "code",
      "source": [
        "import torch"
      ],
      "execution_count": 0,
      "outputs": []
    },
    {
      "metadata": {
        "id": "frlsiwoytZQ9",
        "colab_type": "text"
      },
      "cell_type": "markdown",
      "source": [
        "Tensor creation"
      ]
    },
    {
      "metadata": {
        "id": "skp9Gdegtpn7",
        "colab_type": "code",
        "outputId": "29ffaca6-cb6f-4051-8bbf-2d932be609a9",
        "colab": {
          "base_uri": "https://localhost:8080/",
          "height": 105
        }
      },
      "cell_type": "code",
      "source": [
        "t = torch.Tensor(2,3)\n",
        "print(t)"
      ],
      "execution_count": 0,
      "outputs": [
        {
          "output_type": "stream",
          "text": [
            "\n",
            " 9.3747e-37  0.0000e+00  0.0000e+00\n",
            " 0.0000e+00  4.0347e+17  4.5642e-41\n",
            "[torch.FloatTensor of size 2x3]\n",
            "\n"
          ],
          "name": "stdout"
        }
      ]
    },
    {
      "metadata": {
        "id": "bN0SdNBHtz72",
        "colab_type": "code",
        "outputId": "b19cee55-4300-4d40-e8c7-7cb029d763eb",
        "colab": {
          "base_uri": "https://localhost:8080/",
          "height": 122
        }
      },
      "cell_type": "code",
      "source": [
        "t= torch.FloatTensor(2,3)\n",
        "print(t)"
      ],
      "execution_count": 0,
      "outputs": [
        {
          "output_type": "stream",
          "text": [
            "\n",
            "1.00000e-37 *\n",
            "  9.3747  0.0000  0.0000\n",
            "  0.0000  0.0000  0.0000\n",
            "[torch.FloatTensor of size 2x3]\n",
            "\n"
          ],
          "name": "stdout"
        }
      ]
    },
    {
      "metadata": {
        "id": "FkABnStFt7E0",
        "colab_type": "code",
        "outputId": "fafe5466-146b-415b-de7a-cbc898ac6fe5",
        "colab": {
          "base_uri": "https://localhost:8080/",
          "height": 34
        }
      },
      "cell_type": "code",
      "source": [
        "type(t[0][0])"
      ],
      "execution_count": 0,
      "outputs": [
        {
          "output_type": "execute_result",
          "data": {
            "text/plain": [
              "float"
            ]
          },
          "metadata": {
            "tags": []
          },
          "execution_count": 10
        }
      ]
    },
    {
      "metadata": {
        "id": "Of8Mq0lbt_EG",
        "colab_type": "code",
        "outputId": "8c909b7b-3017-4d5b-ee75-283040d21b21",
        "colab": {
          "base_uri": "https://localhost:8080/",
          "height": 70
        }
      },
      "cell_type": "code",
      "source": [
        "print(t.size())\n",
        "print(t.dim())\n",
        "print(len(t.size())==t.dim())"
      ],
      "execution_count": 0,
      "outputs": [
        {
          "output_type": "stream",
          "text": [
            "torch.Size([2, 3])\n",
            "2\n",
            "True\n"
          ],
          "name": "stdout"
        }
      ]
    },
    {
      "metadata": {
        "id": "uZLKuN_GudFH",
        "colab_type": "text"
      },
      "cell_type": "markdown",
      "source": [
        "Set values to  the tensor"
      ]
    },
    {
      "metadata": {
        "id": "ffvU_uynuPtv",
        "colab_type": "code",
        "outputId": "a1eb0bf5-198c-43cb-b0db-fbe212e9e485",
        "colab": {
          "base_uri": "https://localhost:8080/",
          "height": 105
        }
      },
      "cell_type": "code",
      "source": [
        "t[0][0]=1\n",
        "t[0][1]=1\n",
        "t[0][2]=1\n",
        "t[1][0]=1\n",
        "t[1][1]=1\n",
        "t[1][2]=1\n",
        "\n",
        "print(t)"
      ],
      "execution_count": 0,
      "outputs": [
        {
          "output_type": "stream",
          "text": [
            "\n",
            " 1  1  1\n",
            " 1  1  1\n",
            "[torch.FloatTensor of size 2x3]\n",
            "\n"
          ],
          "name": "stdout"
        }
      ]
    },
    {
      "metadata": {
        "id": "NxcBQ2_JvfnA",
        "colab_type": "text"
      },
      "cell_type": "markdown",
      "source": [
        "Let's cast a Float tensor to Int tensor\n"
      ]
    },
    {
      "metadata": {
        "id": "9Xm3eOfmwEcl",
        "colab_type": "code",
        "outputId": "50a8fee5-5fbb-4510-e3de-9557c006308a",
        "colab": {
          "base_uri": "https://localhost:8080/",
          "height": 175
        }
      },
      "cell_type": "code",
      "source": [
        "t[0][0]=0.11 \n",
        "print(t)\n",
        "\n",
        "t.type(torch.IntTensor)"
      ],
      "execution_count": 0,
      "outputs": [
        {
          "output_type": "stream",
          "text": [
            "\n",
            " 0.1100  1.0000  1.0000\n",
            " 1.0000  1.0000  1.0000\n",
            "[torch.FloatTensor of size 2x3]\n",
            "\n"
          ],
          "name": "stdout"
        },
        {
          "output_type": "execute_result",
          "data": {
            "text/plain": [
              "\n",
              " 0  1  1\n",
              " 1  1  1\n",
              "[torch.IntTensor of size 2x3]"
            ]
          },
          "metadata": {
            "tags": []
          },
          "execution_count": 22
        }
      ]
    },
    {
      "metadata": {
        "id": "GjWv3sjUwDbW",
        "colab_type": "text"
      },
      "cell_type": "markdown",
      "source": [
        "Ways of creating a tensor\n"
      ]
    },
    {
      "metadata": {
        "id": "O0Bmo9i95HZw",
        "colab_type": "code",
        "outputId": "e67a3e31-71a3-445c-eeb9-da3ff724ce18",
        "colab": {
          "base_uri": "https://localhost:8080/",
          "height": 193
        }
      },
      "cell_type": "code",
      "source": [
        "t2= torch.Tensor(t)\n",
        "print(t2)\n",
        "\n",
        "t3= torch.IntTensor([[1,21],[2,22]])\n",
        "print(t3)b"
      ],
      "execution_count": 0,
      "outputs": [
        {
          "output_type": "stream",
          "text": [
            "\n",
            " 0.1100  1.0000  1.0000\n",
            " 1.0000  1.0000  1.0000\n",
            "[torch.FloatTensor of size 2x3]\n",
            "\n",
            "\n",
            "  1  21\n",
            "  2  22\n",
            "[torch.IntTensor of size 2x2]\n",
            "\n"
          ],
          "name": "stdout"
        }
      ]
    },
    {
      "metadata": {
        "id": "laqTkYcu9tUm",
        "colab_type": "code",
        "outputId": "373e8803-6099-4067-c239-34e14f12e027",
        "colab": {
          "base_uri": "https://localhost:8080/",
          "height": 193
        }
      },
      "cell_type": "code",
      "source": [
        "tz = torch.zeros(2,3)\n",
        "print(tz)\n",
        "to = torch.ones(2,3)\n",
        "print(to)"
      ],
      "execution_count": 0,
      "outputs": [
        {
          "output_type": "stream",
          "text": [
            "\n",
            " 0  0  0\n",
            " 0  0  0\n",
            "[torch.FloatTensor of size 2x3]\n",
            "\n",
            "\n",
            " 1  1  1\n",
            " 1  1  1\n",
            "[torch.FloatTensor of size 2x3]\n",
            "\n"
          ],
          "name": "stdout"
        }
      ]
    },
    {
      "metadata": {
        "id": "SJb9_BcW-QJg",
        "colab_type": "text"
      },
      "cell_type": "markdown",
      "source": [
        "**Tensor Operations**"
      ]
    },
    {
      "metadata": {
        "id": "XmkMAIGC-V43",
        "colab_type": "code",
        "outputId": "bef58624-18ba-4de4-dde3-213ca9d28b9c",
        "colab": {
          "base_uri": "https://localhost:8080/",
          "height": 87
        }
      },
      "cell_type": "code",
      "source": [
        "t1 = torch.ones(2,4)\n",
        "t2= torch.ones(2,4)\n",
        "t1 + t2"
      ],
      "execution_count": 0,
      "outputs": [
        {
          "output_type": "execute_result",
          "data": {
            "text/plain": [
              "\n",
              " 2  2  2  2\n",
              " 2  2  2  2\n",
              "[torch.FloatTensor of size 2x4]"
            ]
          },
          "metadata": {
            "tags": []
          },
          "execution_count": 28
        }
      ]
    },
    {
      "metadata": {
        "id": "Na6m3psu-grg",
        "colab_type": "code",
        "outputId": "21ee697b-067f-4b4c-f440-fa18f39614bc",
        "colab": {
          "base_uri": "https://localhost:8080/",
          "height": 87
        }
      },
      "cell_type": "code",
      "source": [
        "t2.add(t1)"
      ],
      "execution_count": 0,
      "outputs": [
        {
          "output_type": "execute_result",
          "data": {
            "text/plain": [
              "\n",
              " 2  2  2  2\n",
              " 2  2  2  2\n",
              "[torch.FloatTensor of size 2x4]"
            ]
          },
          "metadata": {
            "tags": []
          },
          "execution_count": 29
        }
      ]
    },
    {
      "metadata": {
        "id": "kjzXsA5f-oz4",
        "colab_type": "code",
        "outputId": "a5967080-e035-48d4-d9f9-15c1fbd97c43",
        "colab": {
          "base_uri": "https://localhost:8080/",
          "height": 105
        }
      },
      "cell_type": "code",
      "source": [
        "print(t1)"
      ],
      "execution_count": 0,
      "outputs": [
        {
          "output_type": "stream",
          "text": [
            "\n",
            " 1  1  1  1\n",
            " 1  1  1  1\n",
            "[torch.FloatTensor of size 2x4]\n",
            "\n"
          ],
          "name": "stdout"
        }
      ]
    },
    {
      "metadata": {
        "id": "6N3ubKzh-uHG",
        "colab_type": "text"
      },
      "cell_type": "markdown",
      "source": [
        "Class methods and package functions"
      ]
    },
    {
      "metadata": {
        "id": "7ab8PSsM-yq1",
        "colab_type": "code",
        "colab": {}
      },
      "cell_type": "code",
      "source": [
        ""
      ],
      "execution_count": 0,
      "outputs": []
    }
  ]
}